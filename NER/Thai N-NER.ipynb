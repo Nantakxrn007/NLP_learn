{
 "cells": [
  {
   "cell_type": "markdown",
   "id": "444903fe",
   "metadata": {},
   "source": [
    "Thai N-NER: Thai Nested Named Entity Recognition\n",
    "This demo notebook provides a tutorial on using Thai N-NER, with references from Thai N-NER\n",
    "\n",
    "Learn more about Thai N-NER here : Thai N-NER"
   ]
  },
  {
   "cell_type": "code",
   "execution_count": 1,
   "id": "6674515b",
   "metadata": {},
   "outputs": [
    {
     "name": "stderr",
     "output_type": "stream",
     "text": [
      "wandb: Currently logged in as: eieizdy007 (eieizdy007-thammasat-university) to https://api.wandb.ai. Use `wandb login --relogin` to force relogin\n"
     ]
    }
   ],
   "source": [
    "!wandb login "
   ]
  },
  {
   "cell_type": "code",
   "execution_count": 2,
   "id": "f2fc293b",
   "metadata": {},
   "outputs": [
    {
     "name": "stderr",
     "output_type": "stream",
     "text": [
      "d:\\mini\\envs\\llm\\lib\\site-packages\\tqdm\\auto.py:21: TqdmWarning: IProgress not found. Please update jupyter and ipywidgets. See https://ipywidgets.readthedocs.io/en/stable/user_install.html\n",
      "  from .autonotebook import tqdm as notebook_tqdm\n"
     ]
    }
   ],
   "source": [
    "import wandb\n",
    "from huggingface_hub import notebook_login\n",
    "from datasets import load_dataset\n",
    "import numpy as np\n",
    "import numpy.random\n",
    "import torch\n",
    "\n",
    "from tqdm.auto import tqdm\n",
    "from functools import partial"
   ]
  },
  {
   "cell_type": "code",
   "execution_count": 4,
   "id": "d2d428e9",
   "metadata": {},
   "outputs": [],
   "source": [
    "#transformers\n",
    "from transformers import (\n",
    "    CamembertTokenizer,\n",
    "    AutoTokenizer,\n",
    "    AutoModel,\n",
    "    AutoModelForMaskedLM,\n",
    "    AutoModelForSequenceClassification,\n",
    "    AutoModelForTokenClassification,\n",
    "    TrainingArguments,\n",
    "    Trainer,\n",
    "    pipeline,\n",
    ")\n",
    "\n",
    "#thaixtransformers\n",
    "from thaixtransformers import Tokenizer\n",
    "from thaixtransformers.preprocess import process_transformers"
   ]
  },
  {
   "cell_type": "code",
   "execution_count": 53,
   "id": "e99c0ec3",
   "metadata": {},
   "outputs": [
    {
     "name": "stderr",
     "output_type": "stream",
     "text": [
      "`trust_remote_code` is not supported anymore.\n",
      "Please check that the Hugging Face dataset 'Thichow/orchid_corpus' isn't based on a loading script and remove `trust_remote_code`.\n",
      "If the dataset is based on a loading script, please ask the dataset author to remove it and convert it to a standard format like Parquet.\n",
      "Using the latest cached version of the dataset since Thichow/orchid_corpus couldn't be found on the Hugging Face Hub\n",
      "Found the latest cached dataset configuration 'thai_orchid_dataset' at C:\\Users\\eieiz\\.cache\\huggingface\\datasets\\Thichow___orchid_corpus\\thai_orchid_dataset\\1.0.0\\adc51c330b524a9226a122393a9ebb1dbaf80c33c5a2a0d84219e9339ae292c0 (last modified on Sat Aug 16 17:16:47 2025).\n"
     ]
    }
   ],
   "source": [
    "orchid = load_dataset(\"Thichow/orchid_corpus\", trust_remote_code=True) #from hugging face "
   ]
  },
  {
   "cell_type": "code",
   "execution_count": 38,
   "id": "5bbfb913",
   "metadata": {},
   "outputs": [
    {
     "data": {
      "text/plain": [
       "{'id': '0',\n",
       " 'label_tokens': ['การ', 'ประชุม', 'ทาง', 'วิชาการ', ' ', 'ครั้ง', 'ที่ 1'],\n",
       " 'pos_tags': [21, 39, 26, 26, 37, 4, 18],\n",
       " 'sentence': 'การประชุมทางวิชาการ ครั้งที่ 1'}"
      ]
     },
     "execution_count": 38,
     "metadata": {},
     "output_type": "execute_result"
    }
   ],
   "source": [
    "orchid['train'][0]"
   ]
  },
  {
   "cell_type": "code",
   "execution_count": 7,
   "id": "1a6138e9",
   "metadata": {},
   "outputs": [
    {
     "data": {
      "text/plain": [
       "47"
      ]
     },
     "execution_count": 7,
     "metadata": {},
     "output_type": "execute_result"
    }
   ],
   "source": [
    "len(orchid[\"train\"].features[\"pos_tags\"].feature.names)"
   ]
  },
  {
   "cell_type": "markdown",
   "id": "c14ed1e3",
   "metadata": {},
   "source": [
    "wangchanberta-base-att-spm-uncased (recommended) - Largest WangchanBERTa    trained on 78.5GB of Assorted Thai Texts with subword tokenizer SentencePiece  \n",
    "xlm-roberta-base - Facebook's XLMR trained on 100 languages   \n",
    "bert-base-multilingual-cased - Google's mBERT trained on 104 languages  \n",
    "wangchanberta-base-wiki-newmm - WangchanBERTa trained on Thai Wikipedia Dump   with PyThaiNLP's word-level tokenizer newmm  \n",
    "wangchanberta-base-wiki-syllable - WangchanBERTa trained on Thai Wikipedia   Dump with PyThaiNLP's syllabel-level tokenizer syllable  \n",
    "wangchanberta-base-wiki-sefr - WangchanBERTa trained on Thai Wikipedia Dump  with word-level tokenizer SEFR \n",
    "wangchanberta-base-wiki-spm - WangchanBERTa trained on Thai Wikipedia Dump  with subword-level tokenizer SentencePiece  \n",
    "In the first part, we require you to select the   wangchanberta-base-att-spm-uncased.  "
   ]
  },
  {
   "cell_type": "markdown",
   "id": "8d0fe448",
   "metadata": {},
   "source": [
    "## Tokenizer"
   ]
  },
  {
   "cell_type": "code",
   "execution_count": 8,
   "id": "f208609f",
   "metadata": {},
   "outputs": [],
   "source": [
    "model_names = [\n",
    "    'airesearch/wangchanberta-base-att-spm-uncased',\n",
    "    'airesearch/wangchanberta-base-wiki-newmm',\n",
    "    'airesearch/wangchanberta-base-wiki-ssg',\n",
    "    'airesearch/wangchanberta-base-wiki-sefr',\n",
    "    'airesearch/wangchanberta-base-wiki-spm',\n",
    "]\n",
    "\n",
    "model_name = model_names[0]\n"
   ]
  },
  {
   "cell_type": "code",
   "execution_count": 41,
   "id": "c5aedf38",
   "metadata": {},
   "outputs": [
    {
     "data": {
      "text/plain": [
       "25004"
      ]
     },
     "execution_count": 41,
     "metadata": {},
     "output_type": "execute_result"
    }
   ],
   "source": [
    "tokenizer = AutoTokenizer.from_pretrained(\n",
    "                                  'airesearch/wangchanberta-base-att-spm-uncased',\n",
    "                                  revision='main',\n",
    "                                  model_max_length=416)\n",
    "\n",
    "# tokenizer = AutoTokenizer.from_pretrained(\"airesearch/wangchanberta-base-att-spm-uncased\")\n",
    "# print(len(tokenizer)) \n",
    "\n",
    "len(tokenizer)"
   ]
  },
  {
   "cell_type": "code",
   "execution_count": 42,
   "id": "dd3b7beb",
   "metadata": {},
   "outputs": [
    {
     "name": "stdout",
     "output_type": "stream",
     "text": [
      "text : ศิลปะไม่เป็นเจ้านายใคร และไม่เป็นขี้ข้าใคร\n"
     ]
    }
   ],
   "source": [
    "text = 'ศิลปะไม่เป็นเจ้านายใคร และไม่เป็นขี้ข้าใคร'\n",
    "print('text :', text)"
   ]
  },
  {
   "cell_type": "code",
   "execution_count": 11,
   "id": "098ce82a",
   "metadata": {},
   "outputs": [
    {
     "data": {
      "text/plain": [
       "{'input_ids': [[5, 10, 2391, 1501, 5365, 197, 222, 1501, 21325, 197, 6]], 'attention_mask': [[1, 1, 1, 1, 1, 1, 1, 1, 1, 1, 1]]}"
      ]
     },
     "execution_count": 11,
     "metadata": {},
     "output_type": "execute_result"
    }
   ],
   "source": [
    "tokenizer([text])"
   ]
  },
  {
   "cell_type": "code",
   "execution_count": 16,
   "id": "af485a4f",
   "metadata": {},
   "outputs": [
    {
     "data": {
      "text/plain": [
       "('<s>', 'ฉัน', '</s>')"
      ]
     },
     "execution_count": 16,
     "metadata": {},
     "output_type": "execute_result"
    }
   ],
   "source": [
    "# tokenizer('ฉัน') [5, 264, 6]\n",
    "tokenizer.decode(5),tokenizer.decode(264),tokenizer.decode(6)"
   ]
  },
  {
   "cell_type": "code",
   "execution_count": 17,
   "id": "34e596de",
   "metadata": {},
   "outputs": [
    {
     "name": "stdout",
     "output_type": "stream",
     "text": [
      "tokens : ['<s>', '', 'ศิลปะ', 'ไม่เป็น', 'เจ้านาย', 'ใคร', 'และ', 'ไม่เป็น', 'ขี้ข้า', 'ใคร', '</s>']\n"
     ]
    }
   ],
   "source": [
    "tokens = []\n",
    "for i in tokenizer([text], is_split_into_words=True)['input_ids']:\n",
    "  tokens.append(tokenizer.decode(i))\n",
    "print('tokens :', tokens)"
   ]
  },
  {
   "cell_type": "code",
   "execution_count": null,
   "id": "2bca3ca1",
   "metadata": {},
   "outputs": [
    {
     "name": "stdout",
     "output_type": "stream",
     "text": [
      "id : 0\n",
      "label_tokens : ['การ', 'ประชุม', 'ทาง', 'วิชาการ', ' ', 'ครั้ง', 'ที่ 1']\n",
      "pos_tags : [21, 39, 26, 26, 37, 4, 18]\n",
      "sentence : การประชุมทางวิชาการ ครั้งที่ 1\n"
     ]
    }
   ],
   "source": [
    "example = orchid[\"train\"][0]\n",
    "for i in example:\n",
    "    print(i, ':', example[i])"
   ]
  },
  {
   "cell_type": "code",
   "execution_count": null,
   "id": "1ec57d11",
   "metadata": {},
   "outputs": [
    {
     "data": {
      "text/plain": [
       "{'input_ids': [5, 10, 882, 8222, 10, 1014, 10, 59, 6], 'attention_mask': [1, 1, 1, 1, 1, 1, 1, 1, 1]}"
      ]
     },
     "execution_count": 19,
     "metadata": {},
     "output_type": "execute_result"
    }
   ],
   "source": [
    "text = 'การประชุมทางวิชาการ ครั้งที่ 1'\n",
    "tokenizer(text)"
   ]
  },
  {
   "cell_type": "code",
   "execution_count": 20,
   "id": "07bba0a6",
   "metadata": {},
   "outputs": [
    {
     "name": "stdout",
     "output_type": "stream",
     "text": [
      "<s>\n",
      "▁\n",
      "การประชุม\n",
      "ทางวิชาการ\n",
      "▁\n",
      "ครั้งที่\n",
      "▁\n",
      "1\n",
      "</s>\n"
     ]
    }
   ],
   "source": [
    "for i in tokenizer(text)['input_ids']:\n",
    "  print(tokenizer.convert_ids_to_tokens(i))"
   ]
  },
  {
   "cell_type": "code",
   "execution_count": 21,
   "id": "a3ab15b6",
   "metadata": {},
   "outputs": [
    {
     "name": "stdout",
     "output_type": "stream",
     "text": [
      "sentence : โดยพิจารณาจากพจนานุกรมภาษาคู่ (Bilingual transfer dictionary)\n",
      "tokens : ['<s>', '▁โดย', 'พิจารณาจาก', 'พจนานุกรม', 'ภาษา', 'คู่', '▁(', '<unk>', 'i', 'ling', 'ual', '▁', 'trans', 'fer', '▁', 'di', 'ction', 'ary', ')', '</s>']\n",
      "label tokens : ['โดย', 'พิจารณา', 'จาก', 'พจนานุกรม', 'ภาษา', 'คู่', ' ', '(', 'Bilingual transfer dictionary', ')']\n",
      "label pos : [25, 39, 38, 26, 26, 5, 37, 37, 26, 37]\n"
     ]
    }
   ],
   "source": [
    "example = orchid[\"train\"][1899]\n",
    "print('sentence :', example[\"sentence\"])\n",
    "tokenized_input = tokenizer([example[\"sentence\"]], is_split_into_words=True)\n",
    "tokens = tokenizer.convert_ids_to_tokens(tokenized_input[\"input_ids\"])\n",
    "\n",
    "print('tokens :',tokens)\n",
    "print('label tokens :', example[\"label_tokens\"])\n",
    "print('label pos :', example[\"pos_tags\"])"
   ]
  },
  {
   "cell_type": "markdown",
   "id": "85353292",
   "metadata": {},
   "source": [
    "Notice how B becomes an <unk> token. This is because this is an uncased model, meaning it only handles small English characters."
   ]
  },
  {
   "cell_type": "code",
   "execution_count": 55,
   "id": "51a51c3f",
   "metadata": {},
   "outputs": [
    {
     "data": {
      "text/plain": [
       "{'id': '1899',\n",
       " 'label_tokens': ['โดย',\n",
       "  'พิจารณา',\n",
       "  'จาก',\n",
       "  'พจนานุกรม',\n",
       "  'ภาษา',\n",
       "  'คู่',\n",
       "  ' ',\n",
       "  '(',\n",
       "  'bilingual transfer dictionary',\n",
       "  ')'],\n",
       " 'pos_tags': [25, 39, 38, 26, 26, 5, 37, 37, 26, 37],\n",
       " 'sentence': 'โดยพิจารณาจากพจนานุกรมภาษาคู่ (bilingual transfer dictionary)'}"
      ]
     },
     "execution_count": 55,
     "metadata": {},
     "output_type": "execute_result"
    }
   ],
   "source": [
    "def lower_case_sentences(examples):\n",
    "    lower_cased_examples = examples.copy()  # copy ป้องกันแก้ไขของเดิม\n",
    "    lower_cased_examples[\"sentence\"] = examples[\"sentence\"].lower()\n",
    "    lower_cased_examples[\"label_tokens\"] = [t.lower() for t in examples[\"label_tokens\"]]\n",
    "    return lower_cased_examples\n",
    "orchidl = orchid.map(lower_case_sentences)\n",
    "orchidl[\"train\"][1899]"
   ]
  },
  {
   "cell_type": "code",
   "execution_count": 44,
   "id": "3d854aa8",
   "metadata": {},
   "outputs": [
    {
     "name": "stdout",
     "output_type": "stream",
     "text": [
      "sentence : โดยพิจารณาจากพจนานุกรมภาษาคู่ (bilingual transfer dictionary)\n",
      "tokens : ['<s>', '▁โดย', 'พิจารณาจาก', 'พจนานุกรม', 'ภาษา', 'คู่', '▁(', 'bi', 'ling', 'ual', '▁', 'trans', 'fer', '▁', 'di', 'ction', 'ary', ')', '</s>']\n",
      "label tokens : ['โดย', 'พิจารณา', 'จาก', 'พจนานุกรม', 'ภาษา', 'คู่', ' ', '(', 'bilingual transfer dictionary', ')']\n",
      "label pos : [25, 39, 38, 26, 26, 5, 37, 37, 26, 37]\n"
     ]
    }
   ],
   "source": [
    "example = orchidl[\"train\"][1899]\n",
    "print('sentence :', example[\"sentence\"])\n",
    "tokenized_input = tokenizer([example[\"sentence\"]], is_split_into_words=True)\n",
    "tokens = tokenizer.convert_ids_to_tokens(tokenized_input[\"input_ids\"])\n",
    "print('tokens :',tokens)\n",
    "print('label tokens :', example[\"label_tokens\"])\n",
    "print('label pos :', example[\"pos_tags\"])\n",
    "     "
   ]
  },
  {
   "cell_type": "code",
   "execution_count": 45,
   "id": "0a8986a7",
   "metadata": {},
   "outputs": [
    {
     "name": "stdout",
     "output_type": "stream",
     "text": [
      "sentence : การประชุมทางวิชาการ ครั้งที่ 1\n",
      "tokens : ['<s>', '▁', 'การประชุม', 'ทางวิชาการ', '▁', 'ครั้งที่', '▁', '1', '</s>']\n",
      "label tokens : ['การ', 'ประชุม', 'ทาง', 'วิชาการ', ' ', 'ครั้ง', 'ที่ 1']\n",
      "label pos : [21, 39, 26, 26, 37, 4, 18]\n"
     ]
    }
   ],
   "source": [
    "example = orchidl[\"train\"][0]\n",
    "print('sentence :', example[\"sentence\"])\n",
    "tokenized_input = tokenizer([example[\"sentence\"]], is_split_into_words=True)\n",
    "tokens = tokenizer.convert_ids_to_tokens(tokenized_input[\"input_ids\"])\n",
    "print('tokens :',tokens)\n",
    "print('label tokens :', example[\"label_tokens\"])\n",
    "print('label pos :', example[\"pos_tags\"])"
   ]
  },
  {
   "attachments": {
    "image.png": {
     "image/png": "[encoded data removed]"
    }
   },
   "cell_type": "markdown",
   "id": "0d66eaba",
   "metadata": {},
   "source": [
    "![image.png](attachment:image.png)"
   ]
  },
  {
   "cell_type": "code",
   "execution_count": 28,
   "id": "199d4cce",
   "metadata": {},
   "outputs": [
    {
     "data": {
      "text/plain": [
       "Dataset({\n",
       "    features: ['id', 'label_tokens', 'pos_tags', 'sentence'],\n",
       "    num_rows: 18500\n",
       "})"
      ]
     },
     "execution_count": 28,
     "metadata": {},
     "output_type": "execute_result"
    }
   ],
   "source": [
    "orchidl['train']"
   ]
  },
  {
   "cell_type": "code",
   "execution_count": 56,
   "id": "6ca8401e",
   "metadata": {},
   "outputs": [],
   "source": [
    "def majority_vote_pos(example):\n",
    "    # แก้ปัญหา 'ำ' ที่ WangchanBERTa preprocessing แยกเป็น 'ํ' + 'า'\n",
    "    sentence = example[\"sentence\"].replace(\"ำ\", \"ํา\")  \n",
    "    label_tokens = example[\"label_tokens\"]\n",
    "    label_pos = example[\"pos_tags\"]\n",
    "\n",
    "    # tokenize ประโยคด้วย tokenizer ของ WangchanBERTa\n",
    "    tokens = tokenizer.tokenize(sentence, add_special_tokens=True)\n",
    "\n",
    "    new_tokens = []\n",
    "    new_labels = []\n",
    "\n",
    "    for token in tokens:\n",
    "        new_tokens.append(token)\n",
    "\n",
    "        # ถ้า token เป็น special token หรือ <unk> ให้ ignore loss\n",
    "        if token in tokenizer.all_special_tokens or token == tokenizer.unk_token:\n",
    "            new_labels.append(-100)\n",
    "            continue\n",
    "\n",
    "        # majority voting: เลือก label token ที่ตรงกับตัวอักษรมากที่สุด\n",
    "        max_overlap = 0\n",
    "        max_pos = -100\n",
    "        for lt, lp in zip(label_tokens, label_pos):\n",
    "            overlap = len(set(token) & set(lt))  # นับตัวอักษรที่ซ้ำกัน\n",
    "            if overlap > max_overlap:\n",
    "                max_overlap = overlap\n",
    "                max_pos = lp\n",
    "\n",
    "        new_labels.append(max_pos)\n",
    "\n",
    "    return {\"tokens\": new_tokens, \"labels\": new_labels}"
   ]
  },
  {
   "cell_type": "code",
   "execution_count": 57,
   "id": "f635e756",
   "metadata": {},
   "outputs": [
    {
     "name": "stderr",
     "output_type": "stream",
     "text": [
      "Map:   0%|          | 0/18500 [00:00<?, ? examples/s]"
     ]
    },
    {
     "name": "stderr",
     "output_type": "stream",
     "text": [
      "Map: 100%|██████████| 18500/18500 [00:13<00:00, 1340.70 examples/s]\n",
      "Map: 100%|██████████| 4625/4625 [00:03<00:00, 1235.59 examples/s]\n"
     ]
    }
   ],
   "source": [
    "tokenized_orchid = orchidl.map(majority_vote_pos)\n"
   ]
  },
  {
   "cell_type": "code",
   "execution_count": 59,
   "id": "a07a5b9d",
   "metadata": {},
   "outputs": [
    {
     "data": {
      "text/plain": [
       "{'id': '0',\n",
       " 'label_tokens': ['การ', 'ประชุม', 'ทาง', 'วิชาการ', ' ', 'ครั้ง', 'ที่ 1'],\n",
       " 'pos_tags': [21, 39, 26, 26, 37, 4, 18],\n",
       " 'sentence': 'การประชุมทางวิชาการ ครั้งที่ 1',\n",
       " 'tokens': ['<s>',\n",
       "  '▁',\n",
       "  'การประชุม',\n",
       "  'ทางวิชาการ',\n",
       "  '▁',\n",
       "  'ครั้งที่',\n",
       "  '▁',\n",
       "  '1',\n",
       "  '</s>'],\n",
       " 'labels': [-100, -100, 39, 26, -100, 4, -100, 18, -100]}"
      ]
     },
     "execution_count": 59,
     "metadata": {},
     "output_type": "execute_result"
    }
   ],
   "source": [
    "tokenized_orchid['train'][0]"
   ]
  },
  {
   "cell_type": "code",
   "execution_count": 60,
   "id": "d0582799",
   "metadata": {},
   "outputs": [
    {
     "name": "stdout",
     "output_type": "stream",
     "text": [
      "id : 0\n",
      "label_tokens : ['การ', 'ประชุม', 'ทาง', 'วิชาการ', ' ', 'ครั้ง', 'ที่ 1']\n",
      "pos_tags : [21, 39, 26, 26, 37, 4, 18]\n",
      "sentence : การประชุมทางวิชาการ ครั้งที่ 1\n",
      "tokens : ['<s>', '▁', 'การประชุม', 'ทางวิชาการ', '▁', 'ครั้งที่', '▁', '1', '</s>']\n",
      "labels : [-100, -100, 39, 26, -100, 4, -100, 18, -100]\n"
     ]
    }
   ],
   "source": [
    "example = tokenized_orchid[\"train\"][0]\n",
    "for i in example :\n",
    "    print(i, \":\", example[i])"
   ]
  },
  {
   "cell_type": "code",
   "execution_count": 61,
   "id": "131fe12c",
   "metadata": {},
   "outputs": [
    {
     "name": "stdout",
     "output_type": "stream",
     "text": [
      "id : 1899\n",
      "label_tokens : ['โดย', 'พิจารณา', 'จาก', 'พจนานุกรม', 'ภาษา', 'คู่', ' ', '(', 'bilingual transfer dictionary', ')']\n",
      "pos_tags : [25, 39, 38, 26, 26, 5, 37, 37, 26, 37]\n",
      "sentence : โดยพิจารณาจากพจนานุกรมภาษาคู่ (bilingual transfer dictionary)\n",
      "tokens : ['<s>', '▁โดย', 'พิจารณาจาก', 'พจนานุกรม', 'ภาษา', 'คู่', '▁(', 'bi', 'ling', 'ual', '▁', 'trans', 'fer', '▁', 'di', 'ction', 'ary', ')', '</s>']\n",
      "labels : [-100, 25, 39, 26, 26, 5, 37, 26, 26, 26, -100, 26, 26, -100, 26, 26, 26, 37, -100]\n"
     ]
    }
   ],
   "source": [
    "# hard test case\n",
    "example = tokenized_orchid[\"train\"][1899]\n",
    "for i in example :\n",
    "    print(i, \":\", example[i])"
   ]
  },
  {
   "cell_type": "markdown",
   "id": "149e4c0f",
   "metadata": {},
   "source": [
    "labels : [-100, 25, 39, 26, 26, 5, 37, 37, 26, 26, 26, 26, -100, 26, 26, 26, -100, 26, 26, 26, 37, -100]\n"
   ]
  },
  {
   "cell_type": "code",
   "execution_count": null,
   "id": "75ad794e",
   "metadata": {},
   "outputs": [],
   "source": [
    "from transformers import DataCollatorForTokenClassification\n",
    "data_collator = DataCollatorForTokenClassification(tokenizer=tokenizer)"
   ]
  }
 ],
 "metadata": {
  "kernelspec": {
   "display_name": "llm",
   "language": "python",
   "name": "python3"
  },
  "language_info": {
   "codemirror_mode": {
    "name": "ipython",
    "version": 3
   },
   "file_extension": ".py",
   "mimetype": "text/x-python",
   "name": "python",
   "nbconvert_exporter": "python",
   "pygments_lexer": "ipython3",
   "version": "3.10.18"
  }
 },
 "nbformat": 4,
 "nbformat_minor": 5
}
