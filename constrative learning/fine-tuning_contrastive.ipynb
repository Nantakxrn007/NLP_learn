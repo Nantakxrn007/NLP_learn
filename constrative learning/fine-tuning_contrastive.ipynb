{
 "cells": [
  {
   "cell_type": "markdown",
   "id": "bfa48d63",
   "metadata": {},
   "source": [
    "This homework is about learning sentence representation and contrastive learning.\n",
    "\n",
    "From previous homework, we used to build token/sequence classification task and learn it through only supervised method. In real-world scenario, human annotation requires a lot of cost and effort to do. Some annotation tasks might require domain experts such as medical domain, legal domain, etc. However, there are some unsupervised methods which are no need any annotations.\n",
    "\n",
    "Contrastive learning is the popular one of unsupervised learning approach. It will learn the representation via similar and dissimilar examples.\n",
    "\n",
    "For this homework, we will focus on SimCSE framework which is one of contrastive learning techniques. For SimCSE, it will learn sentence embedding by comparing between different views of the same sentence.\n",
    "\n",
    "In this homework you will perform three main tasks.\n",
    "\n",
    "Train a sentiment classification model using a pretrained model. This model uses freeze weights. That is it treats the pretrained model as a fixed feature extractor.\n",
    "Train a sentiment classification model using a pretrained model. This model also performs weight updates on the base model's weights.\n",
    "Perform SimCSE and use the sentence embedding to perform linear classification."
   ]
  },
  {
   "cell_type": "code",
   "execution_count": null,
   "id": "9064bc15",
   "metadata": {},
   "outputs": [],
   "source": []
  },
  {
   "cell_type": "code",
   "execution_count": null,
   "id": "a86d9769",
   "metadata": {},
   "outputs": [],
   "source": []
  },
  {
   "cell_type": "code",
   "execution_count": null,
   "id": "ee0ee857",
   "metadata": {},
   "outputs": [],
   "source": []
  }
 ],
 "metadata": {
  "language_info": {
   "name": "python"
  }
 },
 "nbformat": 4,
 "nbformat_minor": 5
}
